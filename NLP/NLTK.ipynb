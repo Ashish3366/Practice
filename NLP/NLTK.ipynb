{
  "cells": [
    {
      "cell_type": "markdown",
      "metadata": {
        "id": "view-in-github",
        "colab_type": "text"
      },
      "source": [
        "<a href=\"https://colab.research.google.com/github/Ashish3366/Practice/blob/main/NLP/NLTK.ipynb\" target=\"_parent\"><img src=\"https://colab.research.google.com/assets/colab-badge.svg\" alt=\"Open In Colab\"/></a>"
      ]
    },
    {
      "cell_type": "markdown",
      "id": "ff5fdc4a",
      "metadata": {
        "id": "ff5fdc4a"
      },
      "source": [
        "# Natural Language Toolkit"
      ]
    },
    {
      "cell_type": "code",
      "execution_count": null,
      "id": "8ff58bae",
      "metadata": {
        "id": "8ff58bae",
        "outputId": "db992e2d-50a9-459d-f8ba-1d3e4b67630a"
      },
      "outputs": [
        {
          "name": "stdout",
          "output_type": "stream",
          "text": [
            "Note: you may need to restart the kernel to use updated packages.\n"
          ]
        },
        {
          "name": "stderr",
          "output_type": "stream",
          "text": [
            "ERROR: Invalid requirement: '#its'\n"
          ]
        }
      ],
      "source": [
        "pip install nltk #its package \\ its python library used for nlp"
      ]
    },
    {
      "cell_type": "code",
      "execution_count": null,
      "id": "270cae93",
      "metadata": {
        "id": "270cae93"
      },
      "outputs": [],
      "source": [
        "import os\n",
        "import nltk"
      ]
    },
    {
      "cell_type": "code",
      "execution_count": null,
      "id": "1a905466",
      "metadata": {
        "id": "1a905466",
        "outputId": "d8e5c474-8a73-44a3-ba4d-72970b64a5c7"
      },
      "outputs": [
        {
          "data": {
            "text/plain": [
              "'3.6.5'"
            ]
          },
          "execution_count": 3,
          "metadata": {},
          "output_type": "execute_result"
        }
      ],
      "source": [
        "nltk.__version__"
      ]
    },
    {
      "cell_type": "code",
      "execution_count": null,
      "id": "3b2665dc",
      "metadata": {
        "id": "3b2665dc"
      },
      "outputs": [],
      "source": [
        "#import nltk.corpus #collection of text document "
      ]
    },
    {
      "cell_type": "code",
      "execution_count": null,
      "id": "40d875fc",
      "metadata": {
        "id": "40d875fc"
      },
      "outputs": [],
      "source": [
        "from nltk.corpus import brown #it contain doc uptil 500"
      ]
    },
    {
      "cell_type": "code",
      "execution_count": null,
      "id": "87cdd1fa",
      "metadata": {
        "id": "87cdd1fa",
        "outputId": "3f6efbb5-9b7d-4f9c-8f30-a2ea6cc0bf6d"
      },
      "outputs": [
        {
          "name": "stderr",
          "output_type": "stream",
          "text": [
            "[nltk_data] Downloading package brown to\n",
            "[nltk_data]     C:\\Users\\JEJURKAR\\AppData\\Roaming\\nltk_data...\n",
            "[nltk_data]   Package brown is already up-to-date!\n"
          ]
        },
        {
          "data": {
            "text/plain": [
              "True"
            ]
          },
          "execution_count": 6,
          "metadata": {},
          "output_type": "execute_result"
        }
      ],
      "source": [
        "nltk.download('brown')"
      ]
    },
    {
      "cell_type": "code",
      "execution_count": null,
      "id": "d0c27e50",
      "metadata": {
        "id": "d0c27e50",
        "outputId": "967570d7-a717-4054-fdaf-4b533dde38c2"
      },
      "outputs": [
        {
          "data": {
            "text/plain": [
              "['The', 'Fulton', 'County', 'Grand', 'Jury', 'said', ...]"
            ]
          },
          "execution_count": 7,
          "metadata": {},
          "output_type": "execute_result"
        }
      ],
      "source": [
        "brown.words()"
      ]
    },
    {
      "cell_type": "code",
      "execution_count": null,
      "id": "49cf1ae2",
      "metadata": {
        "id": "49cf1ae2",
        "outputId": "20917a77-7172-47c1-9cfa-abe8832d625b"
      },
      "outputs": [
        {
          "data": {
            "text/plain": [
              "nltk.corpus.reader.tagged.CategorizedTaggedCorpusReader"
            ]
          },
          "execution_count": 8,
          "metadata": {},
          "output_type": "execute_result"
        }
      ],
      "source": [
        "type(brown)"
      ]
    },
    {
      "cell_type": "code",
      "execution_count": null,
      "id": "346465a0",
      "metadata": {
        "id": "346465a0",
        "outputId": "a71724c8-a30a-4f33-b8b0-544809d71e6f"
      },
      "outputs": [
        {
          "data": {
            "text/plain": [
              "['adventure',\n",
              " 'belles_lettres',\n",
              " 'editorial',\n",
              " 'fiction',\n",
              " 'government',\n",
              " 'hobbies',\n",
              " 'humor',\n",
              " 'learned',\n",
              " 'lore',\n",
              " 'mystery',\n",
              " 'news',\n",
              " 'religion',\n",
              " 'reviews',\n",
              " 'romance',\n",
              " 'science_fiction']"
            ]
          },
          "execution_count": 9,
          "metadata": {},
          "output_type": "execute_result"
        }
      ],
      "source": [
        "brown.categories()"
      ]
    },
    {
      "cell_type": "code",
      "execution_count": null,
      "id": "f52b3939",
      "metadata": {
        "id": "f52b3939",
        "outputId": "be7d3361-f0a8-4ff5-caf1-043519ef9880"
      },
      "outputs": [
        {
          "data": {
            "text/plain": [
              "['Thirty-three', 'Scotty', 'did', 'not', 'go', 'back', ...]"
            ]
          },
          "execution_count": 10,
          "metadata": {},
          "output_type": "execute_result"
        }
      ],
      "source": [
        "brown.words(categories = 'fiction')"
      ]
    },
    {
      "cell_type": "code",
      "execution_count": null,
      "id": "1157cf54",
      "metadata": {
        "id": "1157cf54",
        "outputId": "1ed2bf0b-91be-48c0-9e56-fc13567f6636"
      },
      "outputs": [
        {
          "data": {
            "text/plain": [
              "['Dan', 'Morgan', 'told', 'himself', 'he', 'would', ...]"
            ]
          },
          "execution_count": 11,
          "metadata": {},
          "output_type": "execute_result"
        }
      ],
      "source": [
        "brown.words(categories = 'adventure')"
      ]
    },
    {
      "cell_type": "code",
      "execution_count": null,
      "id": "65a0d7b1",
      "metadata": {
        "id": "65a0d7b1"
      },
      "outputs": [],
      "source": [
        "AI ='hello this is ai'"
      ]
    },
    {
      "cell_type": "code",
      "execution_count": null,
      "id": "4866fb43",
      "metadata": {
        "id": "4866fb43",
        "outputId": "3bec60c3-8512-4776-e66a-aacc273c8fbc"
      },
      "outputs": [
        {
          "data": {
            "text/plain": [
              "'hello this is ai'"
            ]
          },
          "execution_count": 13,
          "metadata": {},
          "output_type": "execute_result"
        }
      ],
      "source": [
        "AI"
      ]
    },
    {
      "cell_type": "code",
      "execution_count": null,
      "id": "edd51f76",
      "metadata": {
        "id": "edd51f76",
        "outputId": "f9dc44b8-ad7e-403f-c83c-1a5505e7c7eb"
      },
      "outputs": [
        {
          "data": {
            "text/plain": [
              "str"
            ]
          },
          "execution_count": 14,
          "metadata": {},
          "output_type": "execute_result"
        }
      ],
      "source": [
        "type(AI)"
      ]
    },
    {
      "cell_type": "code",
      "execution_count": null,
      "id": "8d1be832",
      "metadata": {
        "id": "8d1be832"
      },
      "outputs": [],
      "source": [
        "from nltk.tokenize import word_tokenize"
      ]
    },
    {
      "cell_type": "code",
      "execution_count": null,
      "id": "279b71be",
      "metadata": {
        "id": "279b71be",
        "outputId": "21deeb3f-cda9-4807-bf7c-326fd0972866"
      },
      "outputs": [
        {
          "name": "stderr",
          "output_type": "stream",
          "text": [
            "[nltk_data] Downloading package punkt to\n",
            "[nltk_data]     C:\\Users\\JEJURKAR\\AppData\\Roaming\\nltk_data...\n",
            "[nltk_data]   Package punkt is already up-to-date!\n"
          ]
        },
        {
          "data": {
            "text/plain": [
              "True"
            ]
          },
          "execution_count": 16,
          "metadata": {},
          "output_type": "execute_result"
        }
      ],
      "source": [
        "nltk.download('punkt')"
      ]
    },
    {
      "cell_type": "code",
      "execution_count": null,
      "id": "3c924561",
      "metadata": {
        "id": "3c924561"
      },
      "outputs": [],
      "source": [
        "AItokens = word_tokenize(AI)"
      ]
    },
    {
      "cell_type": "code",
      "execution_count": null,
      "id": "a01390fa",
      "metadata": {
        "id": "a01390fa",
        "outputId": "7a7a36ea-45fc-4583-c73a-b73849ebabb4"
      },
      "outputs": [
        {
          "data": {
            "text/plain": [
              "['hello', 'this', 'is', 'ai']"
            ]
          },
          "execution_count": 18,
          "metadata": {},
          "output_type": "execute_result"
        }
      ],
      "source": [
        "AItokens"
      ]
    },
    {
      "cell_type": "code",
      "execution_count": null,
      "id": "9f9fc91a",
      "metadata": {
        "id": "9f9fc91a",
        "outputId": "c90e0992-df19-43eb-ec63-9357528b19b5"
      },
      "outputs": [
        {
          "data": {
            "text/plain": [
              "4"
            ]
          },
          "execution_count": 19,
          "metadata": {},
          "output_type": "execute_result"
        }
      ],
      "source": [
        "len(AItokens)"
      ]
    },
    {
      "cell_type": "code",
      "execution_count": null,
      "id": "02249783",
      "metadata": {
        "id": "02249783",
        "outputId": "9f5a81f4-735a-44fc-f79d-c076eb5b57dc"
      },
      "outputs": [
        {
          "data": {
            "text/plain": [
              "'hello'"
            ]
          },
          "execution_count": 20,
          "metadata": {},
          "output_type": "execute_result"
        }
      ],
      "source": [
        "AItokens[0]"
      ]
    },
    {
      "cell_type": "code",
      "execution_count": null,
      "id": "c0e0adc8",
      "metadata": {
        "id": "c0e0adc8",
        "outputId": "28897ec7-7d19-4390-d29a-236b63510fd9"
      },
      "outputs": [
        {
          "data": {
            "text/plain": [
              "'is'"
            ]
          },
          "execution_count": 21,
          "metadata": {},
          "output_type": "execute_result"
        }
      ],
      "source": [
        "AItokens[2]"
      ]
    },
    {
      "cell_type": "code",
      "execution_count": null,
      "id": "c3d75b9d",
      "metadata": {
        "id": "c3d75b9d"
      },
      "outputs": [],
      "source": [
        "from nltk.tokenize import sent_tokenize"
      ]
    },
    {
      "cell_type": "code",
      "execution_count": null,
      "id": "8bffe27c",
      "metadata": {
        "id": "8bffe27c"
      },
      "outputs": [],
      "source": [
        "p = \"\"\"this is aiml class we are doing lots of study Lorem Ipsum is \n",
        "\n",
        "\n",
        "\n",
        "\n",
        "\n",
        "\n",
        "\n",
        "\n",
        "\n",
        "\n",
        "\n",
        "\n",
        "simply dummy text of the printing and typesetting industry. Lorem Ipsum has been the industry's standard dummy text ever since the 1500s, when an unknown printer took a galley of type and scrambled it to make a type specimen book. It has survived not only five centuries, but also the leap into electronic typesetting, remaining essentially unchanged\"\"\""
      ]
    },
    {
      "cell_type": "code",
      "execution_count": null,
      "id": "dd53c06c",
      "metadata": {
        "id": "dd53c06c",
        "outputId": "5c5ab07e-e417-451c-f848-978518a07365"
      },
      "outputs": [
        {
          "data": {
            "text/plain": [
              "\"this is aiml class we are doing lots of study Lorem Ipsum is \\n\\n\\n\\n\\n\\n\\n\\n\\n\\n\\n\\n\\nsimply dummy text of the printing and typesetting industry. Lorem Ipsum has been the industry's standard dummy text ever since the 1500s, when an unknown printer took a galley of type and scrambled it to make a type specimen book. It has survived not only five centuries, but also the leap into electronic typesetting, remaining essentially unchanged\""
            ]
          },
          "execution_count": 24,
          "metadata": {},
          "output_type": "execute_result"
        }
      ],
      "source": [
        "p"
      ]
    },
    {
      "cell_type": "code",
      "execution_count": null,
      "id": "d3797399",
      "metadata": {
        "id": "d3797399",
        "outputId": "c4217a26-6466-4b6f-8078-8e8638db73a9"
      },
      "outputs": [
        {
          "data": {
            "text/plain": [
              "str"
            ]
          },
          "execution_count": 25,
          "metadata": {},
          "output_type": "execute_result"
        }
      ],
      "source": [
        "type(p)"
      ]
    },
    {
      "cell_type": "code",
      "execution_count": null,
      "id": "594e2b53",
      "metadata": {
        "id": "594e2b53",
        "outputId": "d8af6e27-d8a8-4de0-98f4-710285c0f8cc"
      },
      "outputs": [
        {
          "data": {
            "text/plain": [
              "424"
            ]
          },
          "execution_count": 26,
          "metadata": {},
          "output_type": "execute_result"
        }
      ],
      "source": [
        "len(p)"
      ]
    },
    {
      "cell_type": "code",
      "execution_count": null,
      "id": "9659ba85",
      "metadata": {
        "id": "9659ba85"
      },
      "outputs": [],
      "source": [
        "para = sent_tokenize(p) # used for splitting paragraphs and documents "
      ]
    },
    {
      "cell_type": "code",
      "execution_count": null,
      "id": "48ce081e",
      "metadata": {
        "id": "48ce081e",
        "outputId": "2eef3714-8017-4773-8727-021cca198f4b"
      },
      "outputs": [
        {
          "data": {
            "text/plain": [
              "['this is aiml class we are doing lots of study Lorem Ipsum is \\n\\n\\n\\n\\n\\n\\n\\n\\n\\n\\n\\n\\nsimply dummy text of the printing and typesetting industry.',\n",
              " \"Lorem Ipsum has been the industry's standard dummy text ever since the 1500s, when an unknown printer took a galley of type and scrambled it to make a type specimen book.\",\n",
              " 'It has survived not only five centuries, but also the leap into electronic typesetting, remaining essentially unchanged']"
            ]
          },
          "execution_count": 28,
          "metadata": {},
          "output_type": "execute_result"
        }
      ],
      "source": [
        "para"
      ]
    },
    {
      "cell_type": "code",
      "execution_count": null,
      "id": "b4e6b315",
      "metadata": {
        "id": "b4e6b315",
        "outputId": "b3d857cb-0664-4e6c-f8a6-bdd1fbb8eb72"
      },
      "outputs": [
        {
          "data": {
            "text/plain": [
              "3"
            ]
          },
          "execution_count": 29,
          "metadata": {},
          "output_type": "execute_result"
        }
      ],
      "source": [
        "len(para)"
      ]
    },
    {
      "cell_type": "code",
      "execution_count": null,
      "id": "c45d1b45",
      "metadata": {
        "id": "c45d1b45"
      },
      "outputs": [],
      "source": [
        "paratokens = word_tokenize(p)"
      ]
    },
    {
      "cell_type": "code",
      "execution_count": null,
      "id": "f2648c29",
      "metadata": {
        "id": "f2648c29",
        "outputId": "e17e9248-b2c1-4b8a-a9a6-1926b6e6cbdb"
      },
      "outputs": [
        {
          "data": {
            "text/plain": [
              "['this',\n",
              " 'is',\n",
              " 'aiml',\n",
              " 'class',\n",
              " 'we',\n",
              " 'are',\n",
              " 'doing',\n",
              " 'lots',\n",
              " 'of',\n",
              " 'study',\n",
              " 'Lorem',\n",
              " 'Ipsum',\n",
              " 'is',\n",
              " 'simply',\n",
              " 'dummy',\n",
              " 'text',\n",
              " 'of',\n",
              " 'the',\n",
              " 'printing',\n",
              " 'and',\n",
              " 'typesetting',\n",
              " 'industry',\n",
              " '.',\n",
              " 'Lorem',\n",
              " 'Ipsum',\n",
              " 'has',\n",
              " 'been',\n",
              " 'the',\n",
              " 'industry',\n",
              " \"'s\",\n",
              " 'standard',\n",
              " 'dummy',\n",
              " 'text',\n",
              " 'ever',\n",
              " 'since',\n",
              " 'the',\n",
              " '1500s',\n",
              " ',',\n",
              " 'when',\n",
              " 'an',\n",
              " 'unknown',\n",
              " 'printer',\n",
              " 'took',\n",
              " 'a',\n",
              " 'galley',\n",
              " 'of',\n",
              " 'type',\n",
              " 'and',\n",
              " 'scrambled',\n",
              " 'it',\n",
              " 'to',\n",
              " 'make',\n",
              " 'a',\n",
              " 'type',\n",
              " 'specimen',\n",
              " 'book',\n",
              " '.',\n",
              " 'It',\n",
              " 'has',\n",
              " 'survived',\n",
              " 'not',\n",
              " 'only',\n",
              " 'five',\n",
              " 'centuries',\n",
              " ',',\n",
              " 'but',\n",
              " 'also',\n",
              " 'the',\n",
              " 'leap',\n",
              " 'into',\n",
              " 'electronic',\n",
              " 'typesetting',\n",
              " ',',\n",
              " 'remaining',\n",
              " 'essentially',\n",
              " 'unchanged']"
            ]
          },
          "execution_count": 31,
          "metadata": {},
          "output_type": "execute_result"
        }
      ],
      "source": [
        "paratokens"
      ]
    },
    {
      "cell_type": "code",
      "execution_count": null,
      "id": "46043386",
      "metadata": {
        "id": "46043386"
      },
      "outputs": [],
      "source": [
        "from nltk.probability import FreqDist"
      ]
    },
    {
      "cell_type": "code",
      "execution_count": null,
      "id": "7bc75851",
      "metadata": {
        "id": "7bc75851"
      },
      "outputs": [],
      "source": [
        "f = FreqDist(p) #f = FreqDist(paratokens)"
      ]
    },
    {
      "cell_type": "code",
      "execution_count": null,
      "id": "42300b6e",
      "metadata": {
        "id": "42300b6e",
        "outputId": "7703ae2d-bf98-403c-ad4b-1982afc1a4e0"
      },
      "outputs": [
        {
          "data": {
            "text/plain": [
              "FreqDist({' ': 69, 'e': 39, 't': 34, 'n': 29, 's': 27, 'i': 24, 'a': 20, 'o': 18, 'r': 15, 'm': 14, ...})"
            ]
          },
          "execution_count": 34,
          "metadata": {},
          "output_type": "execute_result"
        }
      ],
      "source": [
        "f"
      ]
    },
    {
      "cell_type": "code",
      "execution_count": null,
      "id": "2600f764",
      "metadata": {
        "id": "2600f764"
      },
      "outputs": [],
      "source": [
        "for word in paratokens :\n",
        "    f[ word.lower()]+=1\n"
      ]
    },
    {
      "cell_type": "code",
      "execution_count": null,
      "id": "cc44c46a",
      "metadata": {
        "id": "cc44c46a",
        "outputId": "f77c0e3f-fa0d-4288-9b1a-79a5df5b4f1f"
      },
      "outputs": [
        {
          "data": {
            "text/plain": [
              "1"
            ]
          },
          "execution_count": 36,
          "metadata": {},
          "output_type": "execute_result"
        }
      ],
      "source": [
        "f['aiml']"
      ]
    },
    {
      "cell_type": "code",
      "execution_count": null,
      "id": "afb0be37",
      "metadata": {
        "id": "afb0be37",
        "outputId": "b3c1e6f5-03d5-47a7-8669-02459ff2c3cb"
      },
      "outputs": [
        {
          "data": {
            "text/plain": [
              "1"
            ]
          },
          "execution_count": 37,
          "metadata": {},
          "output_type": "execute_result"
        }
      ],
      "source": [
        "f['this']"
      ]
    },
    {
      "cell_type": "code",
      "execution_count": null,
      "id": "1e484aef",
      "metadata": {
        "id": "1e484aef",
        "outputId": "c01f911d-9b79-4b3c-bf3f-7b8df9194b77"
      },
      "outputs": [
        {
          "data": {
            "text/plain": [
              "3"
            ]
          },
          "execution_count": 38,
          "metadata": {},
          "output_type": "execute_result"
        }
      ],
      "source": [
        "f['of']"
      ]
    },
    {
      "cell_type": "code",
      "execution_count": null,
      "id": "af376da2",
      "metadata": {
        "id": "af376da2"
      },
      "outputs": [],
      "source": [
        "fr = f.most_common(5)"
      ]
    },
    {
      "cell_type": "code",
      "execution_count": null,
      "id": "59227dd3",
      "metadata": {
        "id": "59227dd3",
        "outputId": "7a6fb5ba-dc5d-43a4-f89c-d3c320676514"
      },
      "outputs": [
        {
          "data": {
            "text/plain": [
              "[(' ', 69), ('e', 39), ('t', 34), ('n', 29), ('s', 27)]"
            ]
          },
          "execution_count": 40,
          "metadata": {},
          "output_type": "execute_result"
        }
      ],
      "source": [
        "fr"
      ]
    },
    {
      "cell_type": "code",
      "execution_count": null,
      "id": "02ccd01a",
      "metadata": {
        "id": "02ccd01a"
      },
      "outputs": [],
      "source": [
        "from nltk.tokenize import blankline_tokenize # it will tokenize on the basis of  blank line"
      ]
    },
    {
      "cell_type": "code",
      "execution_count": null,
      "id": "9afc0238",
      "metadata": {
        "id": "9afc0238"
      },
      "outputs": [],
      "source": [
        "bl = blankline_tokenize(p)"
      ]
    },
    {
      "cell_type": "code",
      "execution_count": null,
      "id": "cf84d0ac",
      "metadata": {
        "id": "cf84d0ac",
        "outputId": "37270991-b7b5-4740-a32e-b42b09a4a8b9"
      },
      "outputs": [
        {
          "data": {
            "text/plain": [
              "['this is aiml class we are doing lots of study Lorem Ipsum is',\n",
              " \"simply dummy text of the printing and typesetting industry. Lorem Ipsum has been the industry's standard dummy text ever since the 1500s, when an unknown printer took a galley of type and scrambled it to make a type specimen book. It has survived not only five centuries, but also the leap into electronic typesetting, remaining essentially unchanged\"]"
            ]
          },
          "execution_count": 43,
          "metadata": {},
          "output_type": "execute_result"
        }
      ],
      "source": [
        "bl"
      ]
    },
    {
      "cell_type": "code",
      "execution_count": null,
      "id": "7844b86a",
      "metadata": {
        "id": "7844b86a",
        "outputId": "90e6a0dd-13d9-4057-c7b5-e28bdc49e172"
      },
      "outputs": [
        {
          "data": {
            "text/plain": [
              "2"
            ]
          },
          "execution_count": 44,
          "metadata": {},
          "output_type": "execute_result"
        }
      ],
      "source": [
        "len(bl)"
      ]
    },
    {
      "cell_type": "code",
      "execution_count": null,
      "id": "235cde8d",
      "metadata": {
        "id": "235cde8d"
      },
      "outputs": [],
      "source": [
        ""
      ]
    },
    {
      "cell_type": "markdown",
      "id": "a5771339",
      "metadata": {
        "id": "a5771339"
      },
      "source": [
        "# Tokenization\n"
      ]
    },
    {
      "cell_type": "markdown",
      "id": "86488ff9",
      "metadata": {
        "id": "86488ff9"
      },
      "source": [
        "Bigram- Tokens of 2 consecative words \n",
        "\n",
        "Trigram - Tokens of 3 consecative words\n",
        "\n",
        "Ngram - Tokens of 'n consecative words\n"
      ]
    },
    {
      "cell_type": "code",
      "execution_count": null,
      "id": "9bfae192",
      "metadata": {
        "id": "9bfae192"
      },
      "outputs": [],
      "source": [
        "from nltk.util import bigrams, trigrams, ngrams"
      ]
    },
    {
      "cell_type": "code",
      "execution_count": null,
      "id": "085d2fe5",
      "metadata": {
        "id": "085d2fe5"
      },
      "outputs": [],
      "source": [
        "AItokens1 = \"hello my nam is  ashish im artificial intelligence machine learning honors student\""
      ]
    },
    {
      "cell_type": "code",
      "execution_count": null,
      "id": "9f2c539f",
      "metadata": {
        "id": "9f2c539f"
      },
      "outputs": [],
      "source": [
        "tokens = word_tokenize(AItokens1)"
      ]
    },
    {
      "cell_type": "code",
      "execution_count": null,
      "id": "f4fca4bd",
      "metadata": {
        "id": "f4fca4bd"
      },
      "outputs": [],
      "source": [
        "bg=list(nltk.bigrams(tokens))"
      ]
    },
    {
      "cell_type": "code",
      "execution_count": null,
      "id": "9f20e8e4",
      "metadata": {
        "id": "9f20e8e4",
        "outputId": "d065adfa-6384-4a74-91e0-494c436e5673"
      },
      "outputs": [
        {
          "data": {
            "text/plain": [
              "[('hello', 'my'),\n",
              " ('my', 'nam'),\n",
              " ('nam', 'is'),\n",
              " ('is', 'ashish'),\n",
              " ('ashish', 'im'),\n",
              " ('im', 'artificial'),\n",
              " ('artificial', 'intelligence'),\n",
              " ('intelligence', 'machine'),\n",
              " ('machine', 'learning'),\n",
              " ('learning', 'honors'),\n",
              " ('honors', 'student')]"
            ]
          },
          "execution_count": 49,
          "metadata": {},
          "output_type": "execute_result"
        }
      ],
      "source": [
        "bg"
      ]
    },
    {
      "cell_type": "code",
      "execution_count": null,
      "id": "7f30b250",
      "metadata": {
        "id": "7f30b250",
        "outputId": "32261836-5f4c-4053-abc9-6ce8275b2315"
      },
      "outputs": [
        {
          "data": {
            "text/plain": [
              "[('hello', 'this', 'is'), ('this', 'is', 'ai')]"
            ]
          },
          "execution_count": 50,
          "metadata": {},
          "output_type": "execute_result"
        }
      ],
      "source": [
        "bg1=list(nltk.trigrams(AItokens))\n",
        "bg1"
      ]
    },
    {
      "cell_type": "code",
      "execution_count": null,
      "id": "1e5c4118",
      "metadata": {
        "id": "1e5c4118",
        "outputId": "78403d0a-0395-4890-841a-103958f4ed9d"
      },
      "outputs": [
        {
          "data": {
            "text/plain": [
              "[('hello',), ('this',), ('is',), ('ai',)]"
            ]
          },
          "execution_count": 51,
          "metadata": {},
          "output_type": "execute_result"
        }
      ],
      "source": [
        "bg2=list(nltk.ngrams(AItokens,1))\n",
        "bg2"
      ]
    },
    {
      "cell_type": "code",
      "execution_count": null,
      "id": "510e2980",
      "metadata": {
        "id": "510e2980",
        "outputId": "3ddbc1df-4958-41e1-c0d5-b0dadd3e7b7c"
      },
      "outputs": [
        {
          "data": {
            "text/plain": [
              "[]"
            ]
          },
          "execution_count": 52,
          "metadata": {},
          "output_type": "execute_result"
        }
      ],
      "source": [
        "bg3=list(nltk.ngrams(AItokens,5))\n",
        "bg3 #condition is not getting statisfied"
      ]
    },
    {
      "cell_type": "markdown",
      "id": "fa00dfb5",
      "metadata": {
        "id": "fa00dfb5"
      },
      "source": [
        "# Stemming"
      ]
    },
    {
      "cell_type": "markdown",
      "id": "706ad97f",
      "metadata": {
        "id": "706ad97f"
      },
      "source": [
        "It is used for reemove prefix and suffix form the word"
      ]
    },
    {
      "cell_type": "code",
      "execution_count": null,
      "id": "45674a3c",
      "metadata": {
        "id": "45674a3c"
      },
      "outputs": [],
      "source": [
        "from nltk.stem import *"
      ]
    },
    {
      "cell_type": "code",
      "execution_count": null,
      "id": "4c2ed5f6",
      "metadata": {
        "id": "4c2ed5f6"
      },
      "outputs": [],
      "source": [
        "from nltk.stem.porter import *"
      ]
    },
    {
      "cell_type": "code",
      "execution_count": null,
      "id": "f1bc95a6",
      "metadata": {
        "id": "f1bc95a6"
      },
      "outputs": [],
      "source": [
        "stemmer=PorterStemmer()"
      ]
    },
    {
      "cell_type": "code",
      "execution_count": null,
      "id": "458f04a2",
      "metadata": {
        "id": "458f04a2",
        "outputId": "c3ac7f64-41c7-4dd2-ed9e-be435ebcc144"
      },
      "outputs": [
        {
          "data": {
            "text/plain": [
              "'have'"
            ]
          },
          "execution_count": 56,
          "metadata": {},
          "output_type": "execute_result"
        }
      ],
      "source": [
        "stemmer.stem(\"having\")"
      ]
    },
    {
      "cell_type": "code",
      "execution_count": null,
      "id": "aa3426cf",
      "metadata": {
        "id": "aa3426cf",
        "outputId": "c3918a97-d479-4b1c-98be-dc3c04a89096"
      },
      "outputs": [
        {
          "data": {
            "text/plain": [
              "'programm'"
            ]
          },
          "execution_count": 57,
          "metadata": {},
          "output_type": "execute_result"
        }
      ],
      "source": [
        "stemmer.stem(\"Programmers\")"
      ]
    },
    {
      "cell_type": "code",
      "execution_count": null,
      "id": "e4b3aff1",
      "metadata": {
        "id": "e4b3aff1",
        "outputId": "5d6358c3-27cc-435c-a959-dfabbb40d3b4"
      },
      "outputs": [
        {
          "data": {
            "text/plain": [
              "'noth'"
            ]
          },
          "execution_count": 58,
          "metadata": {},
          "output_type": "execute_result"
        }
      ],
      "source": [
        "stemmer.stem(\"Nothing\")"
      ]
    },
    {
      "cell_type": "code",
      "execution_count": null,
      "id": "5a8fa184",
      "metadata": {
        "id": "5a8fa184",
        "outputId": "8b4bac93-13b6-43c1-dd67-330aa45ecfce"
      },
      "outputs": [
        {
          "name": "stdout",
          "output_type": "stream",
          "text": [
            "give -> give\n",
            "gave -> gave\n",
            "giving -> give\n",
            "given -> given\n"
          ]
        }
      ],
      "source": [
        "words=['give','gave','giving','given']\n",
        "\n",
        "\n",
        "for w in words:\n",
        "    print(w,'->',stemmer.stem(w))"
      ]
    },
    {
      "cell_type": "code",
      "execution_count": null,
      "id": "d86d5d7d",
      "metadata": {
        "id": "d86d5d7d",
        "outputId": "3e30ea07-35e4-4bc2-c874-95679c6e31b6"
      },
      "outputs": [
        {
          "name": "stdout",
          "output_type": "stream",
          "text": [
            "Programmer -> programm\n",
            "Program -> program\n",
            "Programmed -> program\n",
            "Programming -> program\n",
            "programers -> program\n"
          ]
        }
      ],
      "source": [
        "words=['Programmer','Program','Programmed','Programming','programers']\n",
        "\n",
        "\n",
        "for w in words:\n",
        "    print(w,'->',stemmer.stem(w))"
      ]
    },
    {
      "cell_type": "code",
      "execution_count": null,
      "id": "82a2c503",
      "metadata": {
        "scrolled": true,
        "id": "82a2c503",
        "outputId": "129f1ad7-d9d6-428a-f9f6-bdc2a1aa4ef6"
      },
      "outputs": [
        {
          "name": "stdout",
          "output_type": "stream",
          "text": [
            "Programmer -> programm\n",
            "program -> program\n",
            "with -> with\n",
            "programming -> program\n",
            "languages -> languag\n"
          ]
        }
      ],
      "source": [
        "word='Programmer program with programming languages'\n",
        "paratokens1 = word_tokenize(word)\n",
        "\n",
        "for w in paratokens1:\n",
        "    print(w,'->',stemmer.stem(w))"
      ]
    },
    {
      "cell_type": "markdown",
      "id": "942892a0",
      "metadata": {
        "id": "942892a0"
      },
      "source": [
        "# Pos tagging (Parts of Speech)"
      ]
    },
    {
      "cell_type": "code",
      "execution_count": null,
      "id": "411dbe8a",
      "metadata": {
        "id": "411dbe8a",
        "outputId": "e330199b-05a0-4ec2-95bc-7c36b48dceb3"
      },
      "outputs": [
        {
          "name": "stderr",
          "output_type": "stream",
          "text": [
            "[nltk_data] Downloading package averaged_perceptron_tagger to\n",
            "[nltk_data]     C:\\Users\\JEJURKAR\\AppData\\Roaming\\nltk_data...\n",
            "[nltk_data]   Package averaged_perceptron_tagger is already up-to-\n",
            "[nltk_data]       date!\n"
          ]
        },
        {
          "data": {
            "text/plain": [
              "True"
            ]
          },
          "execution_count": 62,
          "metadata": {},
          "output_type": "execute_result"
        }
      ],
      "source": [
        "nltk.download('averaged_perceptron_tagger')#Parts of Speech"
      ]
    },
    {
      "cell_type": "code",
      "execution_count": null,
      "id": "2b22b525",
      "metadata": {
        "id": "2b22b525",
        "outputId": "4b04cc94-d2c7-4e1f-b255-021bc0dfe69a"
      },
      "outputs": [
        {
          "data": {
            "text/plain": [
              "['hello', 'this', 'is', 'ai']"
            ]
          },
          "execution_count": 63,
          "metadata": {},
          "output_type": "execute_result"
        }
      ],
      "source": [
        "AItokens"
      ]
    },
    {
      "cell_type": "code",
      "execution_count": null,
      "id": "61fcafb8",
      "metadata": {
        "id": "61fcafb8",
        "outputId": "57a849a7-9b87-4bad-a962-c4a12b3c5335"
      },
      "outputs": [
        {
          "name": "stdout",
          "output_type": "stream",
          "text": [
            "[('hello', 'NN'), ('this', 'DT'), ('is', 'VBZ'), ('ai', 'JJ')]\n"
          ]
        }
      ],
      "source": [
        "tagged=nltk.pos_tag(AItokens)\n",
        "print(tagged)"
      ]
    },
    {
      "cell_type": "markdown",
      "id": "68f8c9be",
      "metadata": {
        "id": "68f8c9be"
      },
      "source": [
        "# Stop words"
      ]
    },
    {
      "cell_type": "code",
      "execution_count": null,
      "id": "126c24cf",
      "metadata": {
        "id": "126c24cf",
        "outputId": "f19f4e6d-b843-4c90-f635-f4fcbd51ecd9"
      },
      "outputs": [
        {
          "name": "stderr",
          "output_type": "stream",
          "text": [
            "[nltk_data] Downloading package stopwords to\n",
            "[nltk_data]     C:\\Users\\JEJURKAR\\AppData\\Roaming\\nltk_data...\n",
            "[nltk_data]   Package stopwords is already up-to-date!\n"
          ]
        },
        {
          "data": {
            "text/plain": [
              "True"
            ]
          },
          "execution_count": 65,
          "metadata": {},
          "output_type": "execute_result"
        }
      ],
      "source": [
        "nltk.download('stopwords')"
      ]
    },
    {
      "cell_type": "code",
      "execution_count": null,
      "id": "fe351dd4",
      "metadata": {
        "id": "fe351dd4"
      },
      "outputs": [],
      "source": [
        "from nltk.corpus import stopwords"
      ]
    },
    {
      "cell_type": "code",
      "execution_count": null,
      "id": "9aefb6e3",
      "metadata": {
        "id": "9aefb6e3"
      },
      "outputs": [],
      "source": [
        "sen=\"World is very happy place for me to live in ! / &\""
      ]
    },
    {
      "cell_type": "code",
      "execution_count": null,
      "id": "4108f3f4",
      "metadata": {
        "id": "4108f3f4"
      },
      "outputs": [],
      "source": [
        "token=word_tokenize(sen)"
      ]
    },
    {
      "cell_type": "code",
      "execution_count": null,
      "id": "2031f4ad",
      "metadata": {
        "id": "2031f4ad",
        "outputId": "c444e376-f233-4ace-f62a-08be34dff8c2"
      },
      "outputs": [
        {
          "data": {
            "text/plain": [
              "['World',\n",
              " 'is',\n",
              " 'very',\n",
              " 'happy',\n",
              " 'place',\n",
              " 'for',\n",
              " 'me',\n",
              " 'to',\n",
              " 'live',\n",
              " 'in',\n",
              " '!',\n",
              " '/',\n",
              " '&']"
            ]
          },
          "execution_count": 69,
          "metadata": {},
          "output_type": "execute_result"
        }
      ],
      "source": [
        "token"
      ]
    },
    {
      "cell_type": "code",
      "execution_count": null,
      "id": "e45fd44f",
      "metadata": {
        "id": "e45fd44f",
        "outputId": "9c85864c-d5d8-4f74-bd77-819c7f7737a9"
      },
      "outputs": [
        {
          "data": {
            "text/plain": [
              "{'a',\n",
              " 'about',\n",
              " 'above',\n",
              " 'after',\n",
              " 'again',\n",
              " 'against',\n",
              " 'ain',\n",
              " 'all',\n",
              " 'am',\n",
              " 'an',\n",
              " 'and',\n",
              " 'any',\n",
              " 'are',\n",
              " 'aren',\n",
              " \"aren't\",\n",
              " 'as',\n",
              " 'at',\n",
              " 'be',\n",
              " 'because',\n",
              " 'been',\n",
              " 'before',\n",
              " 'being',\n",
              " 'below',\n",
              " 'between',\n",
              " 'both',\n",
              " 'but',\n",
              " 'by',\n",
              " 'can',\n",
              " 'couldn',\n",
              " \"couldn't\",\n",
              " 'd',\n",
              " 'did',\n",
              " 'didn',\n",
              " \"didn't\",\n",
              " 'do',\n",
              " 'does',\n",
              " 'doesn',\n",
              " \"doesn't\",\n",
              " 'doing',\n",
              " 'don',\n",
              " \"don't\",\n",
              " 'down',\n",
              " 'during',\n",
              " 'each',\n",
              " 'few',\n",
              " 'for',\n",
              " 'from',\n",
              " 'further',\n",
              " 'had',\n",
              " 'hadn',\n",
              " \"hadn't\",\n",
              " 'has',\n",
              " 'hasn',\n",
              " \"hasn't\",\n",
              " 'have',\n",
              " 'haven',\n",
              " \"haven't\",\n",
              " 'having',\n",
              " 'he',\n",
              " 'her',\n",
              " 'here',\n",
              " 'hers',\n",
              " 'herself',\n",
              " 'him',\n",
              " 'himself',\n",
              " 'his',\n",
              " 'how',\n",
              " 'i',\n",
              " 'if',\n",
              " 'in',\n",
              " 'into',\n",
              " 'is',\n",
              " 'isn',\n",
              " \"isn't\",\n",
              " 'it',\n",
              " \"it's\",\n",
              " 'its',\n",
              " 'itself',\n",
              " 'just',\n",
              " 'll',\n",
              " 'm',\n",
              " 'ma',\n",
              " 'me',\n",
              " 'mightn',\n",
              " \"mightn't\",\n",
              " 'more',\n",
              " 'most',\n",
              " 'mustn',\n",
              " \"mustn't\",\n",
              " 'my',\n",
              " 'myself',\n",
              " 'needn',\n",
              " \"needn't\",\n",
              " 'no',\n",
              " 'nor',\n",
              " 'not',\n",
              " 'now',\n",
              " 'o',\n",
              " 'of',\n",
              " 'off',\n",
              " 'on',\n",
              " 'once',\n",
              " 'only',\n",
              " 'or',\n",
              " 'other',\n",
              " 'our',\n",
              " 'ours',\n",
              " 'ourselves',\n",
              " 'out',\n",
              " 'over',\n",
              " 'own',\n",
              " 're',\n",
              " 's',\n",
              " 'same',\n",
              " 'shan',\n",
              " \"shan't\",\n",
              " 'she',\n",
              " \"she's\",\n",
              " 'should',\n",
              " \"should've\",\n",
              " 'shouldn',\n",
              " \"shouldn't\",\n",
              " 'so',\n",
              " 'some',\n",
              " 'such',\n",
              " 't',\n",
              " 'than',\n",
              " 'that',\n",
              " \"that'll\",\n",
              " 'the',\n",
              " 'their',\n",
              " 'theirs',\n",
              " 'them',\n",
              " 'themselves',\n",
              " 'then',\n",
              " 'there',\n",
              " 'these',\n",
              " 'they',\n",
              " 'this',\n",
              " 'those',\n",
              " 'through',\n",
              " 'to',\n",
              " 'too',\n",
              " 'under',\n",
              " 'until',\n",
              " 'up',\n",
              " 've',\n",
              " 'very',\n",
              " 'was',\n",
              " 'wasn',\n",
              " \"wasn't\",\n",
              " 'we',\n",
              " 'were',\n",
              " 'weren',\n",
              " \"weren't\",\n",
              " 'what',\n",
              " 'when',\n",
              " 'where',\n",
              " 'which',\n",
              " 'while',\n",
              " 'who',\n",
              " 'whom',\n",
              " 'why',\n",
              " 'will',\n",
              " 'with',\n",
              " 'won',\n",
              " \"won't\",\n",
              " 'wouldn',\n",
              " \"wouldn't\",\n",
              " 'y',\n",
              " 'you',\n",
              " \"you'd\",\n",
              " \"you'll\",\n",
              " \"you're\",\n",
              " \"you've\",\n",
              " 'your',\n",
              " 'yours',\n",
              " 'yourself',\n",
              " 'yourselves'}"
            ]
          },
          "execution_count": 70,
          "metadata": {},
          "output_type": "execute_result"
        }
      ],
      "source": [
        "stop_words=set(stopwords.words('english')) # To check the list of stopwords you can type the following commands in the python shell.\n",
        "stop_words"
      ]
    },
    {
      "cell_type": "code",
      "execution_count": null,
      "id": "682c4f50",
      "metadata": {
        "id": "682c4f50",
        "outputId": "1c5c5596-71e5-4e09-b1f5-1d3c15dc2796"
      },
      "outputs": [
        {
          "data": {
            "text/plain": [
              "179"
            ]
          },
          "execution_count": 71,
          "metadata": {},
          "output_type": "execute_result"
        }
      ],
      "source": [
        "len(stop_words)"
      ]
    },
    {
      "cell_type": "code",
      "execution_count": null,
      "id": "8948961e",
      "metadata": {
        "id": "8948961e",
        "outputId": "9468a1b7-22d9-495d-92de-078a208c8864"
      },
      "outputs": [
        {
          "data": {
            "text/plain": [
              "'Programmer program with programming languages'"
            ]
          },
          "execution_count": 72,
          "metadata": {},
          "output_type": "execute_result"
        }
      ],
      "source": [
        "word"
      ]
    },
    {
      "cell_type": "code",
      "execution_count": null,
      "id": "701f6f44",
      "metadata": {
        "id": "701f6f44"
      },
      "outputs": [],
      "source": [
        "fl_lis=[] \n",
        "for word in stop_words:\n",
        "    if word!='stopword':\n",
        "        fl_lis.append(word)"
      ]
    },
    {
      "cell_type": "code",
      "execution_count": null,
      "id": "920a88c3",
      "metadata": {
        "id": "920a88c3",
        "outputId": "2a58ec2f-77e0-4098-ba5a-cd107395ca84"
      },
      "outputs": [
        {
          "data": {
            "text/plain": [
              "['you',\n",
              " \"isn't\",\n",
              " 'that',\n",
              " 'if',\n",
              " \"you're\",\n",
              " \"you'll\",\n",
              " 'here',\n",
              " 'against',\n",
              " 'has',\n",
              " 'theirs',\n",
              " 'most',\n",
              " 'not',\n",
              " 'himself',\n",
              " 'he',\n",
              " 'me',\n",
              " \"she's\",\n",
              " 'all',\n",
              " 'weren',\n",
              " 'only',\n",
              " 'isn',\n",
              " 'haven',\n",
              " 'mightn',\n",
              " 'below',\n",
              " 'didn',\n",
              " 'were',\n",
              " 'your',\n",
              " 'then',\n",
              " 't',\n",
              " 'ma',\n",
              " 'above',\n",
              " 'just',\n",
              " 'the',\n",
              " 'i',\n",
              " 'having',\n",
              " 'o',\n",
              " 'each',\n",
              " 'yourself',\n",
              " 'my',\n",
              " 'his',\n",
              " 'be',\n",
              " 'why',\n",
              " \"it's\",\n",
              " 'am',\n",
              " 'this',\n",
              " \"that'll\",\n",
              " 'a',\n",
              " 'both',\n",
              " 'now',\n",
              " 'for',\n",
              " \"didn't\",\n",
              " 'hasn',\n",
              " 'to',\n",
              " 'at',\n",
              " 'don',\n",
              " 'under',\n",
              " 'hadn',\n",
              " 'own',\n",
              " 'needn',\n",
              " \"needn't\",\n",
              " 'wouldn',\n",
              " 'shan',\n",
              " 'during',\n",
              " 'over',\n",
              " 'hers',\n",
              " 'we',\n",
              " 'd',\n",
              " 'few',\n",
              " 'about',\n",
              " 'ourselves',\n",
              " 'no',\n",
              " 're',\n",
              " 'should',\n",
              " 'did',\n",
              " \"hasn't\",\n",
              " \"you'd\",\n",
              " 'them',\n",
              " \"wasn't\",\n",
              " 'which',\n",
              " 'there',\n",
              " 'more',\n",
              " 'too',\n",
              " 'does',\n",
              " 'doing',\n",
              " 'into',\n",
              " 'being',\n",
              " 'when',\n",
              " \"couldn't\",\n",
              " 'these',\n",
              " 'she',\n",
              " 'who',\n",
              " 'they',\n",
              " 'in',\n",
              " 've',\n",
              " 'because',\n",
              " 'their',\n",
              " \"haven't\",\n",
              " 'wasn',\n",
              " 'any',\n",
              " 'with',\n",
              " \"aren't\",\n",
              " 'through',\n",
              " 'down',\n",
              " \"doesn't\",\n",
              " 'themselves',\n",
              " 'while',\n",
              " 'how',\n",
              " 'been',\n",
              " 'same',\n",
              " 'shouldn',\n",
              " 'from',\n",
              " \"won't\",\n",
              " 'yours',\n",
              " 'its',\n",
              " 'are',\n",
              " 'aren',\n",
              " 'ours',\n",
              " 'until',\n",
              " \"you've\",\n",
              " 'y',\n",
              " 'what',\n",
              " 'on',\n",
              " 'very',\n",
              " 'other',\n",
              " 'after',\n",
              " 'is',\n",
              " 'ain',\n",
              " 'do',\n",
              " \"don't\",\n",
              " 'as',\n",
              " 'out',\n",
              " 'had',\n",
              " 'can',\n",
              " 'm',\n",
              " 'or',\n",
              " 'of',\n",
              " 'yourselves',\n",
              " 'her',\n",
              " 'have',\n",
              " 'such',\n",
              " 'so',\n",
              " 'between',\n",
              " \"mightn't\",\n",
              " 'where',\n",
              " \"weren't\",\n",
              " 'again',\n",
              " 'him',\n",
              " \"shan't\",\n",
              " 'but',\n",
              " 'itself',\n",
              " 'once',\n",
              " 'by',\n",
              " 'further',\n",
              " 'our',\n",
              " 'those',\n",
              " 'up',\n",
              " \"shouldn't\",\n",
              " \"hadn't\",\n",
              " \"mustn't\",\n",
              " 'doesn',\n",
              " 'than',\n",
              " 'was',\n",
              " 'and',\n",
              " 'myself',\n",
              " 'mustn',\n",
              " \"should've\",\n",
              " 'an',\n",
              " 'whom',\n",
              " 's',\n",
              " 'some',\n",
              " 'will',\n",
              " 'it',\n",
              " 'll',\n",
              " 'herself',\n",
              " 'off',\n",
              " \"wouldn't\",\n",
              " 'couldn',\n",
              " 'won',\n",
              " 'nor',\n",
              " 'before']"
            ]
          },
          "execution_count": 74,
          "metadata": {},
          "output_type": "execute_result"
        }
      ],
      "source": [
        "fl_lis\n"
      ]
    },
    {
      "cell_type": "code",
      "execution_count": null,
      "id": "6526a274",
      "metadata": {
        "id": "6526a274"
      },
      "outputs": [],
      "source": [
        "sen = 'a about after i am only guy who is happy at day night'\n",
        "\n",
        "token = word_tokenize(sen)"
      ]
    },
    {
      "cell_type": "code",
      "execution_count": null,
      "id": "7d7db614",
      "metadata": {
        "id": "7d7db614",
        "outputId": "1366176a-4465-4b3a-9d6e-506288cf3f0f"
      },
      "outputs": [
        {
          "data": {
            "text/plain": [
              "['a',\n",
              " 'about',\n",
              " 'after',\n",
              " 'i',\n",
              " 'am',\n",
              " 'only',\n",
              " 'guy',\n",
              " 'who',\n",
              " 'is',\n",
              " 'happy',\n",
              " 'at',\n",
              " 'day',\n",
              " 'night']"
            ]
          },
          "execution_count": 76,
          "metadata": {},
          "output_type": "execute_result"
        }
      ],
      "source": [
        "token"
      ]
    },
    {
      "cell_type": "code",
      "execution_count": null,
      "id": "4d873496",
      "metadata": {
        "id": "4d873496",
        "outputId": "076187cd-6bda-4f1f-f8ed-bf42f2d95b92"
      },
      "outputs": [
        {
          "data": {
            "text/plain": [
              "['guy', 'happy', 'day', 'night']"
            ]
          },
          "execution_count": 77,
          "metadata": {},
          "output_type": "execute_result"
        }
      ],
      "source": [
        "sample = []\n",
        "\n",
        "for w in token:\n",
        "    if w not in stop_words:\n",
        "        sample.append(w)\n",
        "sample\n",
        "    "
      ]
    },
    {
      "cell_type": "code",
      "execution_count": null,
      "id": "9a59d185",
      "metadata": {
        "id": "9a59d185"
      },
      "outputs": [],
      "source": [
        ""
      ]
    }
  ],
  "metadata": {
    "kernelspec": {
      "display_name": "Python 3 (ipykernel)",
      "language": "python",
      "name": "python3"
    },
    "language_info": {
      "codemirror_mode": {
        "name": "ipython",
        "version": 3
      },
      "file_extension": ".py",
      "mimetype": "text/x-python",
      "name": "python",
      "nbconvert_exporter": "python",
      "pygments_lexer": "ipython3",
      "version": "3.9.7"
    },
    "colab": {
      "name": "NLTK.ipynb",
      "provenance": [],
      "include_colab_link": true
    }
  },
  "nbformat": 4,
  "nbformat_minor": 5
}